{
  "nbformat": 4,
  "nbformat_minor": 0,
  "metadata": {
    "colab": {
      "provenance": [],
      "authorship_tag": "ABX9TyPqklrUG7qjFwXoWo1xRLGc",
      "include_colab_link": true
    },
    "kernelspec": {
      "name": "python3",
      "display_name": "Python 3"
    },
    "language_info": {
      "name": "python"
    }
  },
  "cells": [
    {
      "cell_type": "markdown",
      "metadata": {
        "id": "view-in-github",
        "colab_type": "text"
      },
      "source": [
        "<a href=\"https://colab.research.google.com/github/411550295/introduction-to-Computer/blob/main/0503.ipynb\" target=\"_parent\"><img src=\"https://colab.research.google.com/assets/colab-badge.svg\" alt=\"Open In Colab\"/></a>"
      ]
    },
    {
      "cell_type": "code",
      "source": [
        "print (\"peiyu\")"
      ],
      "metadata": {
        "id": "rDxozMt1mQx6",
        "colab": {
          "base_uri": "https://localhost:8080/"
        },
        "outputId": "8d3a3867-e7be-425a-d247-2832428a5b75"
      },
      "execution_count": 5,
      "outputs": [
        {
          "output_type": "stream",
          "name": "stdout",
          "text": [
            "peiyu\n"
          ]
        }
      ]
    },
    {
      "cell_type": "code",
      "source": [
        "total = 0\n",
        "for i in range (1, 101):\n",
        "  total += i\n",
        "print (total)"
      ],
      "metadata": {
        "id": "rc9J0PE6mU-T",
        "colab": {
          "base_uri": "https://localhost:8080/"
        },
        "outputId": "0b2a7c65-3df2-4ceb-9edb-bdc6bb48e8ab"
      },
      "execution_count": null,
      "outputs": [
        {
          "output_type": "stream",
          "name": "stdout",
          "text": [
            "5050\n"
          ]
        }
      ]
    },
    {
      "cell_type": "code",
      "source": [
        "height = int(input())\n",
        "weight = int(input())\n",
        "bmi = weight / (height / 100) ** 2\n",
        "print (format(bmi, \".2f\"))"
      ],
      "metadata": {
        "colab": {
          "base_uri": "https://localhost:8080/"
        },
        "id": "RMhuc9-3OmhG",
        "outputId": "32a2000a-56f8-4c61-93a5-16d6a5bcfd18"
      },
      "execution_count": null,
      "outputs": [
        {
          "output_type": "stream",
          "name": "stdout",
          "text": [
            "176\n",
            "75\n",
            "24.21\n"
          ]
        }
      ]
    }
  ]
}