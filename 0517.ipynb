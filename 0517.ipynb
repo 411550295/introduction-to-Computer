{
  "nbformat": 4,
  "nbformat_minor": 0,
  "metadata": {
    "colab": {
      "provenance": [],
      "authorship_tag": "ABX9TyPJErxa3a9PZate7wh9P/5r",
      "include_colab_link": true
    },
    "kernelspec": {
      "name": "python3",
      "display_name": "Python 3"
    },
    "language_info": {
      "name": "python"
    }
  },
  "cells": [
    {
      "cell_type": "markdown",
      "metadata": {
        "id": "view-in-github",
        "colab_type": "text"
      },
      "source": [
        "<a href=\"https://colab.research.google.com/github/411550295/introduction-to-Computer/blob/main/0517.ipynb\" target=\"_parent\"><img src=\"https://colab.research.google.com/assets/colab-badge.svg\" alt=\"Open In Colab\"/></a>"
      ]
    },
    {
      "cell_type": "code",
      "execution_count": null,
      "metadata": {
        "colab": {
          "base_uri": "https://localhost:8080/"
        },
        "id": "eeuCkEkix38V",
        "outputId": "9f267047-7943-4503-c50f-d1275c14500f"
      },
      "outputs": [
        {
          "output_type": "stream",
          "name": "stdout",
          "text": [
            "score: 70\n",
            "Grade is: C\n"
          ]
        }
      ],
      "source": [
        "score = int(input(\"score: \"))\n",
        "if score >= 90:\n",
        "  print(\"Grade is: A\")\n",
        "elif score >= 80:\n",
        "  print(\"Grade is: B\")\n",
        "elif score >= 70:\n",
        "  print(\"Grade is: C\")\n",
        "elif score >= 60:\n",
        "  print(\"Grade is: D\")\n",
        "else:\n",
        "  print(\"Grade is: F\")"
      ]
    },
    {
      "cell_type": "code",
      "source": [
        "print(\"今天會下雨嗎？\")\n",
        "rain = input()\n",
        "if rain == \"Y\" or rain == \"y\" or rain == \"N\" or rain == \"n\":\n",
        "  if rain == \"Y\" or rain == \"y\":\n",
        "    print(\"出門記得帶傘！\")\n",
        "  elif rain == \"N\" or rain == \"n\":\n",
        "    print(\"不用帶傘！\")\n",
        "else:\n",
        "  print(\"輸入錯誤，請重新輸入！\")"
      ],
      "metadata": {
        "id": "qcbcEkVhKkaF",
        "colab": {
          "base_uri": "https://localhost:8080/"
        },
        "outputId": "d0fbfce6-399b-4ad4-ce4c-d3294736c81e"
      },
      "execution_count": null,
      "outputs": [
        {
          "output_type": "stream",
          "name": "stdout",
          "text": [
            "今天會下雨嗎？\n",
            "N\n",
            "不用帶傘！\n"
          ]
        }
      ]
    },
    {
      "cell_type": "code",
      "source": [
        "temp = float(input(\"請輸入體溫： \"))\n",
        "if temp >= 37.5:\n",
        "  print(\"體溫過高！\")\n",
        "elif temp <= 37.4 and temp >= 37:\n",
        "  print(\"體溫略高！\")\n",
        "elif temp <= 36.9 and temp >= 34:\n",
        "  print(\"體溫正常！\")\n",
        "else:\n",
        "  print(\"體溫異常，請重新測量！\")"
      ],
      "metadata": {
        "id": "QUpyIqU40HqI",
        "colab": {
          "base_uri": "https://localhost:8080/"
        },
        "outputId": "40834b6b-acef-4d80-f1e8-5ed613aa54ac"
      },
      "execution_count": null,
      "outputs": [
        {
          "output_type": "stream",
          "name": "stdout",
          "text": [
            "請輸入體溫： 36.5\n",
            "體溫正常！\n"
          ]
        }
      ]
    },
    {
      "cell_type": "code",
      "source": [
        "score = int(input(\"請輸入成績： \"))\n",
        "if score >= 90:\n",
        "  print(\"A\")\n",
        "elif score >= 80:\n",
        "  print(\"B\")\n",
        "elif score >= 70:\n",
        "  print(\"C\")\n",
        "elif score >= 60:\n",
        "  print(\"D\")\n",
        "else:\n",
        "  print(\"E\")"
      ],
      "metadata": {
        "colab": {
          "base_uri": "https://localhost:8080/"
        },
        "id": "LLaVNnn6D-eU",
        "outputId": "268cd91f-494b-4731-c625-294551f7a01c"
      },
      "execution_count": null,
      "outputs": [
        {
          "output_type": "stream",
          "name": "stdout",
          "text": [
            "請輸入成績： 50\n",
            "E\n"
          ]
        }
      ]
    },
    {
      "cell_type": "code",
      "source": [
        "month = int(input(\"請輸入月份： \"))\n",
        "if month >= 3 and month <= 5:\n",
        "  print(month, \"月是春天！\")\n",
        "elif month >= 6 and month <= 8:\n",
        "  print(month, \"月是夏天！\")\n",
        "elif month >= 9 and month <= 11:\n",
        "  print(month, \"月是秋天！\")\n",
        "elif month == 12 or month == 1 or month == 2:\n",
        "  print(month, \"月是冬天！\")\n",
        "else:\n",
        "  print(\"月份不在範圍內！\")"
      ],
      "metadata": {
        "colab": {
          "base_uri": "https://localhost:8080/"
        },
        "id": "2KgId_3zFYPE",
        "outputId": "0411c4f2-c6c7-45fa-b00d-0df6159f1920"
      },
      "execution_count": null,
      "outputs": [
        {
          "output_type": "stream",
          "name": "stdout",
          "text": [
            "請輸入月份： 5\n",
            "5 月是春天！\n"
          ]
        }
      ]
    },
    {
      "cell_type": "code",
      "source": [
        "tax = int(input(\"請輸入今年收入淨額： \"))\n",
        "if tax >= 2000000:\n",
        "  print(\"付稅金額：\", tax * 0.3 ,\"元\")\n",
        "elif tax >= 1000000:\n",
        "  print(\"付稅金額：\", tax * 0.21 ,\"元\")\n",
        "elif tax >= 600000:\n",
        "  print(\"付稅金額：\", tax * 0.13 ,\"元\")\n",
        "elif tax >= 300000:\n",
        "  print(\"付稅金額：\", tax * 0.06 ,\"元\")\n",
        "else:\n",
        "  print(\"付稅金額：\", tax * 0 ,\"元\")"
      ],
      "metadata": {
        "colab": {
          "base_uri": "https://localhost:8080/"
        },
        "id": "g0vvcYctHPYl",
        "outputId": "b896ebc5-b44d-4088-b080-07893fa8a541"
      },
      "execution_count": null,
      "outputs": [
        {
          "output_type": "stream",
          "name": "stdout",
          "text": [
            "請輸入今年收入淨額： 10000\n",
            "付稅金額： 0 元\n"
          ]
        }
      ]
    }
  ]
}