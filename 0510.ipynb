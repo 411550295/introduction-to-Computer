{
  "nbformat": 4,
  "nbformat_minor": 0,
  "metadata": {
    "colab": {
      "provenance": [],
      "authorship_tag": "ABX9TyNGPl1eFGxQB1TubfNv8WLB",
      "include_colab_link": true
    },
    "kernelspec": {
      "name": "python3",
      "display_name": "Python 3"
    },
    "language_info": {
      "name": "python"
    }
  },
  "cells": [
    {
      "cell_type": "markdown",
      "metadata": {
        "id": "view-in-github",
        "colab_type": "text"
      },
      "source": [
        "<a href=\"https://colab.research.google.com/github/411550295/introduction-to-Computer/blob/main/0510.ipynb\" target=\"_parent\"><img src=\"https://colab.research.google.com/assets/colab-badge.svg\" alt=\"Open In Colab\"/></a>"
      ]
    },
    {
      "cell_type": "code",
      "source": [
        "score = int (input(\"請輸入分數：\"))\n",
        "if score >= 60:\n",
        "  print (\"及格\")\n",
        "else:\n",
        "  print (\"不及格\")"
      ],
      "metadata": {
        "id": "q4sa82h6vB-w",
        "outputId": "014963c9-7daf-4f32-9641-37a11c227e2f",
        "colab": {
          "base_uri": "https://localhost:8080/"
        }
      },
      "execution_count": null,
      "outputs": [
        {
          "output_type": "stream",
          "name": "stdout",
          "text": [
            "請輸入分數：60\n",
            "及格\n"
          ]
        }
      ]
    },
    {
      "cell_type": "code",
      "source": [
        "password = int(input(\"請輸入密碼：\"))\n",
        "if password == 1234:\n",
        "  print (\"歡迎光臨\")"
      ],
      "metadata": {
        "colab": {
          "base_uri": "https://localhost:8080/"
        },
        "id": "Rw8KuQb2wFjL",
        "outputId": "693dba26-91c6-45b4-a198-0c146f93582f"
      },
      "execution_count": null,
      "outputs": [
        {
          "name": "stdout",
          "output_type": "stream",
          "text": [
            "請輸入密碼：3536\n"
          ]
        }
      ]
    },
    {
      "cell_type": "code",
      "source": [
        "password = int(input(\"請輸入密碼：\"))\n",
        "if password == 3536:\n",
        "  print (\"歡迎光臨\")\n",
        "else:\n",
        "  print (\"密碼錯誤\")"
      ],
      "metadata": {
        "colab": {
          "base_uri": "https://localhost:8080/"
        },
        "id": "e7JcaleOzk_Z",
        "outputId": "fd2e3e6d-a4db-4c5e-c20b-395fb191a96f"
      },
      "execution_count": null,
      "outputs": [
        {
          "output_type": "stream",
          "name": "stdout",
          "text": [
            "請輸入密碼：1111\n",
            "密碼錯誤\n"
          ]
        }
      ]
    },
    {
      "cell_type": "code",
      "source": [
        "print (\"今天會下雨嗎？\")\n",
        "rain = input()\n",
        "if (rain == \"Y\" or rain == \"y\"):\n",
        "  print (\"出門記得帶傘！\")\n",
        "elif (rain == \"N \" or rain == \"n\"):\n",
        "  print (\"不用帶傘\")"
      ],
      "metadata": {
        "colab": {
          "base_uri": "https://localhost:8080/"
        },
        "id": "6K1RxiaP2NpY",
        "outputId": "7f99523a-090d-46c1-c4ac-13693f20b940"
      },
      "execution_count": null,
      "outputs": [
        {
          "output_type": "stream",
          "name": "stdout",
          "text": [
            "今天會下雨嗎？\n",
            "Y\n",
            "出門記得帶傘！\n"
          ]
        }
      ]
    },
    {
      "cell_type": "code",
      "source": [
        "num = int (input(\"請輸入正整數:\"))\n",
        "if (num % 2) == 0:\n",
        "  print (num,\"是偶數\")\n",
        "else:\n",
        "  print (num,\"是奇數\")"
      ],
      "metadata": {
        "id": "lZaIJZgE1C3y",
        "colab": {
          "base_uri": "https://localhost:8080/"
        },
        "outputId": "ec842378-87f9-40ba-d352-af126d948a20"
      },
      "execution_count": null,
      "outputs": [
        {
          "output_type": "stream",
          "name": "stdout",
          "text": [
            "請輸入正整數:51\n",
            "51 是奇數\n"
          ]
        }
      ]
    }
  ]
}