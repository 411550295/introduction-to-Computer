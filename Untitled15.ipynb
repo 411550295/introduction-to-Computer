{
  "nbformat": 4,
  "nbformat_minor": 0,
  "metadata": {
    "colab": {
      "provenance": [],
      "authorship_tag": "ABX9TyPPVghNUr8xM/9aPHNOKJv4",
      "include_colab_link": true
    },
    "kernelspec": {
      "name": "python3",
      "display_name": "Python 3"
    },
    "language_info": {
      "name": "python"
    }
  },
  "cells": [
    {
      "cell_type": "markdown",
      "metadata": {
        "id": "view-in-github",
        "colab_type": "text"
      },
      "source": [
        "<a href=\"https://colab.research.google.com/github/411550295/introduction-to-Computer/blob/main/Untitled15.ipynb\" target=\"_parent\"><img src=\"https://colab.research.google.com/assets/colab-badge.svg\" alt=\"Open In Colab\"/></a>"
      ]
    },
    {
      "cell_type": "code",
      "execution_count": 1,
      "metadata": {
        "colab": {
          "base_uri": "https://localhost:8080/"
        },
        "id": "d4LarAEeEirE",
        "outputId": "c94f0250-07a8-4a05-8f1e-98f00175f96f"
      },
      "outputs": [
        {
          "output_type": "stream",
          "name": "stdout",
          "text": [
            "請輸入一個正整數：13\n",
            "1 2 3 4 5 6 7 8 9 10 11 12 13 "
          ]
        }
      ],
      "source": [
        "num = int(input(\"請輸入一個正整數：\"))\n",
        "for i in range(1, num+1):\n",
        "  print(i, end=\" \")"
      ]
    },
    {
      "cell_type": "code",
      "source": [
        "x = int(input())\n",
        "y = int(input())\n",
        "print(\"這是兩個整數: %d 和 %d\" % (x,y))"
      ],
      "metadata": {
        "colab": {
          "base_uri": "https://localhost:8080/"
        },
        "id": "L1Uj1t8_GYI9",
        "outputId": "40254c71-0811-4288-d0e2-ac48b9585807"
      },
      "execution_count": 11,
      "outputs": [
        {
          "output_type": "stream",
          "name": "stdout",
          "text": [
            "42\n",
            "24\n",
            "這是兩個整數: 42 和 24\n"
          ]
        }
      ]
    },
    {
      "cell_type": "code",
      "source": [
        "n = int(input(\"請輸入一個正整數：\"))\n",
        "for i in range(1, n+1):\n",
        "  p_sum = sum(range(1, i+1))\n",
        "  print(\"1到%d的總和為: %d\" % (i,p_sum))"
      ],
      "metadata": {
        "colab": {
          "base_uri": "https://localhost:8080/"
        },
        "id": "amnM0jstGw1u",
        "outputId": "0f052ebb-6e46-48f1-8fd3-e8848af7a79b"
      },
      "execution_count": 10,
      "outputs": [
        {
          "output_type": "stream",
          "name": "stdout",
          "text": [
            "請輸入一個正整數：8\n",
            "1到1的總和為: 1\n",
            "1到2的總和為: 3\n",
            "1到3的總和為: 6\n",
            "1到4的總和為: 10\n",
            "1到5的總和為: 15\n",
            "1到6的總和為: 21\n",
            "1到7的總和為: 28\n",
            "1到8的總和為: 36\n"
          ]
        }
      ]
    },
    {
      "cell_type": "code",
      "source": [
        "#偶數字串大寫\n",
        "a = input(\"請輸入字串：\")\n",
        "for i in range(len(a)):\n",
        "  if (i % 2 != 0):\n",
        "    print(a[i].upper(),end=\"\")\n",
        "  else:\n",
        "    print(a[i].lower(),end=\"\")"
      ],
      "metadata": {
        "colab": {
          "base_uri": "https://localhost:8080/"
        },
        "id": "GexStiYKHpRb",
        "outputId": "10369ec9-8e38-404c-cdd3-d70c1b34c667"
      },
      "execution_count": 4,
      "outputs": [
        {
          "output_type": "stream",
          "name": "stdout",
          "text": [
            "請輸入字串：panda\n",
            "pAnDa"
          ]
        }
      ]
    },
    {
      "cell_type": "code",
      "source": [
        "n = int(input(\"請輸入整數：\"))\n",
        "for i in range(1, n+1):\n",
        "  for j in range(i):\n",
        "    print(\"*\",end=\" \")\n",
        "  print()"
      ],
      "metadata": {
        "colab": {
          "base_uri": "https://localhost:8080/"
        },
        "id": "hKwA0OaEKDjV",
        "outputId": "31f36c02-8281-48fb-ffcf-651623871ec1"
      },
      "execution_count": 5,
      "outputs": [
        {
          "output_type": "stream",
          "name": "stdout",
          "text": [
            "請輸入整數：5\n",
            "* \n",
            "* * \n",
            "* * * \n",
            "* * * * \n",
            "* * * * * \n"
          ]
        }
      ]
    },
    {
      "cell_type": "code",
      "source": [
        "n = int(input(\"請輸入整數：\"))\n",
        "for i in range(1, n+1):\n",
        "  for j in range(i):\n",
        "    print(j+1,end=\" \")\n",
        "  print()"
      ],
      "metadata": {
        "colab": {
          "base_uri": "https://localhost:8080/"
        },
        "id": "3ry5mxegKw3D",
        "outputId": "395f667b-5e34-4d2b-d746-18f026e8b3bf"
      },
      "execution_count": 6,
      "outputs": [
        {
          "output_type": "stream",
          "name": "stdout",
          "text": [
            "請輸入整數：5\n",
            "1 \n",
            "1 2 \n",
            "1 2 3 \n",
            "1 2 3 4 \n",
            "1 2 3 4 5 \n"
          ]
        }
      ]
    }
  ]
}